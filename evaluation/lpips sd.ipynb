{
 "cells": [
  {
   "cell_type": "code",
   "execution_count": 60,
   "metadata": {},
   "outputs": [],
   "source": [
    "import torch\n",
    "\n",
    "from tqdm import tqdm\n",
    "from IPython.display import clear_output\n",
    "\n",
    "import lpips\n",
    "import math\n",
    "\n",
    "import pathlib\n",
    "\n",
    "import torchvision.transforms as transforms"
   ]
  },
  {
   "cell_type": "code",
   "execution_count": 61,
   "metadata": {},
   "outputs": [],
   "source": [
    "device=\"cuda:0\""
   ]
  },
  {
   "cell_type": "code",
   "execution_count": 62,
   "metadata": {},
   "outputs": [],
   "source": [
    "IMAGE_EXTENSIONS = {'bmp', 'jpg', 'jpeg', 'pgm', 'png', 'ppm',\n",
    "                    'tif', 'tiff', 'webp'}"
   ]
  },
  {
   "cell_type": "code",
   "execution_count": 63,
   "metadata": {},
   "outputs": [],
   "source": [
    "# class ImagePathDataset(torch.utils.data.Dataset):\n",
    "#     def __init__(self, files, transforms=None):\n",
    "#         self.files = files\n",
    "#         self.transforms = transforms\n",
    "\n",
    "#     def __len__(self):\n",
    "#         return len(self.files)\n",
    "\n",
    "#     def __getitem__(self, i):\n",
    "#         path = self.files[i]\n",
    "#         img = Image.open(path).convert('RGB')\n",
    "#         if self.transforms is not None:\n",
    "#             img = self.transforms(img)\n",
    "#         return img\n",
    "from boring import ImagePathDataset\n",
    "\n",
    "tx = transforms.Compose([\n",
    "    transforms.Lambda(lambda t:t.convert(\"RGB\")),\n",
    "    transforms.Resize([128,128]),\n",
    "    transforms.ToTensor(),\n",
    "    transforms.Normalize(mean=[0.5, 0.5, 0.5], std=[0.5, 0.5, 0.5])\n",
    "    \n",
    "])\n",
    "\n",
    "def make_dataset(path_of_dataset):\n",
    "    path = pathlib.Path(path_of_dataset)\n",
    "    files = sorted([file for ext in IMAGE_EXTENSIONS\n",
    "                           for file in path.glob('*.{}'.format(ext))])\n",
    "    dataset = ImagePathDataset(files,transform= tx)\n",
    "#     dataloader = torch.utils.data.DataLoader(dataset,\n",
    "#                                     batch_size=50,\n",
    "#                                     shuffle=False,\n",
    "#                                     drop_last=False,\n",
    "#                                     num_workers=1)\n",
    "    return dataset\n",
    "    "
   ]
  },
  {
   "cell_type": "code",
   "execution_count": 64,
   "metadata": {},
   "outputs": [
    {
     "name": "stdout",
     "output_type": "stream",
     "text": [
      "Setting up [LPIPS] perceptual loss: trunk [alex], v[0.1], spatial [off]\n",
      "Loading model from: C:\\Users\\asus\\anaconda3\\envs\\anyface\\lib\\site-packages\\lpips\\weights\\v0.1\\alex.pth\n"
     ]
    }
   ],
   "source": [
    "synthetic_image_path = \"D:/ddpm/generated_images/\"\n",
    "real_image_path = \"D:/ddpm/real_images/\"\n",
    "syntheticdataset=make_dataloader(synthetic_image_path)\n",
    "realdataset = make_dataloader(real_image_path)\n",
    "loss_fn_alex = lpips.LPIPS(net='alex').cuda()"
   ]
  },
  {
   "cell_type": "code",
   "execution_count": 65,
   "metadata": {},
   "outputs": [
    {
     "name": "stderr",
     "output_type": "stream",
     "text": [
      "100%|███████████████████████████████████████████████████████████████████████████| 10000/10000 [00:37<00:00, 264.54it/s]\n"
     ]
    }
   ],
   "source": [
    "distances=[]\n",
    "for batch in tqdm(range(0,10000)):\n",
    "    img0=realdataset.__getitem__(batch)\n",
    "    img1=syntheticdataset.__getitem__(batch)\n",
    "    img0=img0.cuda()\n",
    "    img1=img1.cuda()\n",
    "    distance = loss_fn_alex(img0, img1)\n",
    "    distance=distance.item()\n",
    "    distances.append(distance)"
   ]
  },
  {
   "cell_type": "code",
   "execution_count": 66,
   "metadata": {},
   "outputs": [
    {
     "name": "stdout",
     "output_type": "stream",
     "text": [
      "Total number of results: 10000\n",
      "Avg:0.4541572332382202|Std Error:0.0007145543349906802\n"
     ]
    }
   ],
   "source": [
    "distances=torch.tensor(distances)\n",
    "print(f\"Total number of results: {distances.shape[0]}\")\n",
    "mean_distance=torch.mean(distances)\n",
    "std_error=torch.std(distances)/math.sqrt(distances.shape[0])\n",
    "\n",
    "print(f\"Avg:{mean_distance}|Std Error:{std_error}\")  "
   ]
  },
  {
   "cell_type": "code",
   "execution_count": null,
   "metadata": {},
   "outputs": [],
   "source": []
  }
 ],
 "metadata": {
  "kernelspec": {
   "display_name": "Python 3 (ipykernel)",
   "language": "python",
   "name": "python3"
  },
  "language_info": {
   "codemirror_mode": {
    "name": "ipython",
    "version": 3
   },
   "file_extension": ".py",
   "mimetype": "text/x-python",
   "name": "python",
   "nbconvert_exporter": "python",
   "pygments_lexer": "ipython3",
   "version": "3.8.15"
  }
 },
 "nbformat": 4,
 "nbformat_minor": 2
}
