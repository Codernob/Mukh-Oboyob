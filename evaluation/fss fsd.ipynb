{
 "cells": [
  {
   "cell_type": "code",
   "execution_count": 1,
   "metadata": {},
   "outputs": [],
   "source": [
    "import torch\n",
    "\n",
    "from tqdm import tqdm\n",
    "from IPython.display import clear_output\n",
    "\n",
    "from facenet_pytorch import MTCNN, InceptionResnetV1\n",
    "\n",
    "import math\n",
    "\n",
    "import pathlib\n",
    "\n",
    "import torchvision.transforms as transforms"
   ]
  },
  {
   "cell_type": "code",
   "execution_count": 2,
   "metadata": {},
   "outputs": [],
   "source": [
    "# If required, create a face detection pipeline using MTCNN:\n",
    "mtcnn = MTCNN(\n",
    "    image_size=128, margin=0, min_face_size=20,\n",
    "    thresholds=[0.6, 0.7, 0.7], factor=0.709, post_process=True,\n",
    "    device=0\n",
    ")"
   ]
  },
  {
   "cell_type": "code",
   "execution_count": 3,
   "metadata": {},
   "outputs": [],
   "source": [
    "device=\"cuda:0\""
   ]
  },
  {
   "cell_type": "code",
   "execution_count": 4,
   "metadata": {},
   "outputs": [],
   "source": [
    "IMAGE_EXTENSIONS = {'bmp', 'jpg', 'jpeg', 'pgm', 'png', 'ppm',\n",
    "                    'tif', 'tiff', 'webp'}"
   ]
  },
  {
   "cell_type": "code",
   "execution_count": 5,
   "metadata": {},
   "outputs": [],
   "source": [
    "# class ImagePathDataset(torch.utils.data.Dataset):\n",
    "#     def __init__(self, files, transforms=None):\n",
    "#         self.files = files\n",
    "#         self.transforms = transforms\n",
    "\n",
    "#     def __len__(self):\n",
    "#         return len(self.files)\n",
    "\n",
    "#     def __getitem__(self, i):\n",
    "#         path = self.files[i]\n",
    "#         img = Image.open(path).convert('RGB')\n",
    "#         if self.transforms is not None:\n",
    "#             img = self.transforms(img)\n",
    "#         return img\n",
    "from imageDatasetLoader import ImagePathDataset\n",
    "\n",
    "tx = transforms.Compose([\n",
    "#     transforms.Lambda(lambda t:t.convert(\"RGB\")),\n",
    "    transforms.Resize([128,128]),\n",
    "    transforms.ToTensor(),\n",
    "#     transforms.Normalize(mean=[0.5, 0.5, 0.5], std=[0.5, 0.5, 0.5])\n",
    "    \n",
    "])\n",
    "\n",
    "batch_size = 1000\n",
    "\n",
    "def make_dataloader(path_of_dataset):\n",
    "    path = pathlib.Path(path_of_dataset)\n",
    "    files = sorted([file for ext in IMAGE_EXTENSIONS\n",
    "                           for file in path.glob('*.{}'.format(ext))])\n",
    "    dataset = ImagePathDataset(files,transform= tx)\n",
    "    dataloader = torch.utils.data.DataLoader(dataset,\n",
    "                                    batch_size=batch_size,\n",
    "                                    shuffle=False,\n",
    "                                    drop_last=False,\n",
    "                                    num_workers=1)\n",
    "    return dataloader\n",
    "    "
   ]
  },
  {
   "cell_type": "code",
   "execution_count": 6,
   "metadata": {},
   "outputs": [
    {
     "data": {
      "text/plain": [
       "torch.Size([1000, 3, 128, 128])"
      ]
     },
     "execution_count": 6,
     "metadata": {},
     "output_type": "execute_result"
    }
   ],
   "source": [
    "synthetic_image_path = \"D:/ddpm/generated_images/\"\n",
    "real_image_path = \"D:/ddpm/real_images/\"\n",
    "syntheticdataloader=make_dataloader(synthetic_image_path)\n",
    "realdataloader = make_dataloader(real_image_path)\n",
    "next(iter(syntheticdataloader)).cuda().shape"
   ]
  },
  {
   "cell_type": "code",
   "execution_count": null,
   "metadata": {},
   "outputs": [],
   "source": [
    "fsd_scores=[]\n",
    "fss_scores=[]\n",
    "with torch.no_grad():\n",
    "    for i in tqdm(range(1,10001)):\n",
    "            clear_output(wait=True)\n",
    "            img0=next(iter(syntheticdataloader)).cuda()\n",
    "            img1=next(iter(realdataloader)).cuda()\n",
    "            # Create an inception resnet (in eval mode):\n",
    "            resnet = InceptionResnetV1(pretrained='vggface2').eval().cuda()\n",
    "            img_embedding0 = resnet(img0)\n",
    "            img_embedding1 = resnet(img1)\n",
    "            fsd = torch.sum(torch.abs((img_embedding0-img_embedding1)))/batch_size\n",
    "            print('fsd=',fsd)\n",
    "            fsd_scores.append(fsd)\n",
    "            cos = torch.nn.CosineSimilarity(dim=1)\n",
    "            fss = torch.sum(cos(img_embedding0,img_embedding1))/batch_size\n",
    "            print('fss=',fss)\n",
    "            fss_scores.append(fss)\n",
    "            del resnet"
   ]
  },
  {
   "cell_type": "code",
   "execution_count": null,
   "metadata": {},
   "outputs": [],
   "source": [
    "distances=torch.tensor(fss_scores)\n",
    "print(f\"Total number of results: {distances.shape[0]}\")\n",
    "mean_distance=torch.mean(distances)\n",
    "std_error=torch.std(distances)/math.sqrt(distances.shape[0])\n",
    "\n",
    "print(f\"fss score:{mean_distance}|Std Error:{std_error}\")  "
   ]
  },
  {
   "cell_type": "code",
   "execution_count": null,
   "metadata": {},
   "outputs": [],
   "source": [
    "distances=torch.tensor(fsd_scores)\n",
    "print(f\"Total number of results: {distances.shape[0]}\")\n",
    "mean_distance=torch.mean(distances)\n",
    "std_error=torch.std(distances)/math.sqrt(distances.shape[0])\n",
    "\n",
    "print(f\"fsd score:{mean_distance}|Std Error:{std_error}\")  "
   ]
  },
  {
   "cell_type": "code",
   "execution_count": null,
   "metadata": {},
   "outputs": [],
   "source": []
  }
 ],
 "metadata": {
  "kernelspec": {
   "display_name": "Python 3 (ipykernel)",
   "language": "python",
   "name": "python3"
  },
  "language_info": {
   "codemirror_mode": {
    "name": "ipython",
    "version": 3
   },
   "file_extension": ".py",
   "mimetype": "text/x-python",
   "name": "python",
   "nbconvert_exporter": "python",
   "pygments_lexer": "ipython3",
   "version": "3.8.15"
  }
 },
 "nbformat": 4,
 "nbformat_minor": 2
}
